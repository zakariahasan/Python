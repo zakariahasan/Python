{
 "cells": [
  {
   "cell_type": "code",
   "execution_count": 19,
   "metadata": {},
   "outputs": [],
   "source": [
    "\n",
    "\n",
    "tall_buildings = {\n",
    "    'buraj khalifa'             :828,\n",
    "    'shaghai tower'             :632,\n",
    "    'abraj al-bait clock tower' :601,\n",
    "    'ping an finance centre'    :599,\n",
    "    'lotte world tower'         :554\n",
    "}"
   ]
  },
  {
   "cell_type": "markdown",
   "metadata": {},
   "source": [
    "# Defining a function "
   ]
  },
  {
   "cell_type": "code",
   "execution_count": 23,
   "metadata": {},
   "outputs": [],
   "source": [
    "def to_feet(m):\n",
    "    return m*3.28048"
   ]
  },
  {
   "cell_type": "markdown",
   "metadata": {},
   "source": [
    "# With a for loop\n"
   ]
  },
  {
   "cell_type": "code",
   "execution_count": 30,
   "metadata": {},
   "outputs": [
    {
     "name": "stdout",
     "output_type": "stream",
     "text": [
      "{'Shaghai tower': 2073.26336, 'Abraj al-bait clock tower': 1971.56848, 'Lotte world tower': 1817.38592}\n"
     ]
    }
   ],
   "source": [
    "d = {}\n",
    "for name, height in tall_buildings.items():\n",
    "    if 'tower'  in name:\n",
    "       # continue\n",
    "        d[name.capitalize()]=to_feet(height)\n",
    "print(d)"
   ]
  },
  {
   "cell_type": "markdown",
   "metadata": {},
   "source": [
    "# With dict Comprehension"
   ]
  },
  {
   "cell_type": "code",
   "execution_count": 28,
   "metadata": {},
   "outputs": [
    {
     "name": "stdout",
     "output_type": "stream",
     "text": [
      "{'Shaghai tower': 2073.26336, 'Abraj al-bait clock tower': 1971.56848, 'Lotte world tower': 1817.38592}\n"
     ]
    }
   ],
   "source": [
    "d = {\n",
    "    name.capitalize(): to_feet(height)\n",
    "    for name, height in tall_buildings.items()\n",
    "    if 'tower' in name\n",
    "    \n",
    "}\n",
    "print(d)"
   ]
  },
  {
   "cell_type": "code",
   "execution_count": null,
   "metadata": {},
   "outputs": [],
   "source": []
  }
 ],
 "metadata": {
  "kernelspec": {
   "display_name": "Python 3",
   "language": "python",
   "name": "python3"
  },
  "language_info": {
   "codemirror_mode": {
    "name": "ipython",
    "version": 3
   },
   "file_extension": ".py",
   "mimetype": "text/x-python",
   "name": "python",
   "nbconvert_exporter": "python",
   "pygments_lexer": "ipython3",
   "version": "3.7.4"
  }
 },
 "nbformat": 4,
 "nbformat_minor": 2
}
